{
 "cells": [
  {
   "cell_type": "markdown",
   "id": "8df70b71",
   "metadata": {
    "lines_to_next_cell": 0
   },
   "source": [
    "## Práctica 0:\n",
    "El desarrollo de esta práctica consiste en implementar de dos maneras, una sin usar numpy y otra usándolo, el cálculo\n",
    "de la integral de una función comprendida entre dos valores de x (a y b) mediante el método de Monte Carlo.\n",
    "Este método, es una aproximación probabilística al resultado de una integral, para ello distribuimos aleatoriamente\n",
    "puntos en la gŕafica y contabilizamos el porcentaje de los mismos que residen en el interior de la misma. Ese porcentaje\n",
    "multiplicado por el area total del rectángulo formado por (b-a) y M (máximo de la función en el intervalo a b) nos da el\n",
    "aproximado total de la integral de la misma.\n",
    "\n",
    "El desarrollo de esta práctica ha sido llevada a cabo por: Jaime Alonso Fernández y Marcos Gomez Cortes\n",
    "\n",
    "\n",
    "\n",
    "Antes de comenzar con las implementaciones, importamos todas las librerias necesarias para la ejecución."
   ]
  },
  {
   "cell_type": "code",
   "id": "a31d5236",
   "metadata": {
    "lines_to_next_cell": 0,
    "jupyter": {
     "is_executing": true
    }
   },
   "source": [
    "import random\n",
    "import time\n",
    "import matplotlib.pyplot as plt\n",
    "import random\n",
    "import time\n",
    "import numpy as np"
   ],
   "outputs": [],
   "execution_count": null
  },
  {
   "cell_type": "markdown",
   "id": "a75b62e2",
   "metadata": {
    "lines_to_next_cell": 0
   },
   "source": [
    "## Fórmula de Monte Carlo:\n",
    "Cálculo de Monte Carlo para la integral. Este método devuelve el cálculo de la fórmula expresada en el enunciado de la práctica."
   ]
  },
  {
   "cell_type": "code",
   "execution_count": null,
   "id": "315fab75",
   "metadata": {
    "lines_to_next_cell": 0
   },
   "outputs": [],
   "source": [
    "def calcula_integral_monte_carlo(debajo, num_puntos, relacion_a_b, m):\n",
    "    return (debajo / num_puntos) * relacion_a_b * m"
   ]
  },
  {
   "cell_type": "markdown",
   "id": "d0e6dda0",
   "metadata": {
    "lines_to_next_cell": 0
   },
   "source": [
    "# Implementación modo iterativo:\n",
    "Este método devuelve no solo el resultado numérico de la integral si no que también el tiempo que le tomó calcularla."
   ]
  },
  {
   "cell_type": "code",
   "execution_count": null,
   "id": "7fb812ad",
   "metadata": {
    "lines_to_next_cell": 1
   },
   "outputs": [],
   "source": [
    "# Declaramos una constante para todo el ejercicio\n",
    "NUMERO_PUNTOS_FUNCION = 100\n",
    "def integra_mc_it(func, a, b, num_puntos=10000):\n",
    "    # Caso extremo: Verificar que el rango es válido\n",
    "    if a == b:\n",
    "        print('Intervalo inválido (a = b)')\n",
    "        return\n",
    "\n",
    "    # Comprobamos el orden correcto de las variables\n",
    "    if a > b:\n",
    "        a, b = b, a\n",
    "\n",
    "    # Iniciamos la evaluación temporal\n",
    "    start_time = time.time()\n",
    "\n",
    "    # Buscamos el valor mayor y menor de la gráfica en el intervalo dado, con una precisión de NUMERO_PUNTOS_FUNCION\n",
    "    m, m_min = 0, 0\n",
    "    for x in range(NUMERO_PUNTOS_FUNCION):\n",
    "        y = func(x)\n",
    "        m = max(m, y)\n",
    "        m_min = min(m_min, y)\n",
    "\n",
    "    # Caso erróneo\n",
    "    if m_min < 0:\n",
    "        print(f'Función inválida al contar con puntos en el rango {a} - {b} por debajo de 0')\n",
    "        return -1, -1\n",
    "\n",
    "    # Inicializamos una variable de cuenta\n",
    "    numero_puntos_dentro = 0\n",
    "    # Generamos puntos aleatorios dentro del rectángulo definido por [a, b] y [0, m] y contamos cuántos de ellos\n",
    "    # están por \"dentro\" o \"debajo\" de la función.\n",
    "    for _ in range(num_puntos):\n",
    "        x = random.uniform(a, b)\n",
    "        y = random.random() * m\n",
    "        if y <= func(x):\n",
    "            numero_puntos_dentro += 1\n",
    "\n",
    "    # Realizamos el cálculo final\n",
    "    resultado = calcula_integral_monte_carlo(numero_puntos_dentro, num_puntos, b - a, m)\n",
    "\n",
    "    # Finalizamos la evaluación temporal al acabar el cálculo\n",
    "    end_time = time.time()\n",
    "\n",
    "    # Devuelve una tupla que almacena el resultado y el tiempo\n",
    "    return resultado,  end_time - start_time"
   ]
  },
  {
   "cell_type": "markdown",
   "id": "dd345b3d",
   "metadata": {
    "lines_to_next_cell": 0
   },
   "source": [
    "## Implementación modo vectorial (usando numpy):\n",
    "Este método devuelve no solo el resultado numérico de la integral si no que también el tiempo que le tomó calcularla.\n",
    "Incluye la opción de representar gráficamente la función con los puntos dentro y fuera de la misma."
   ]
  },
  {
   "cell_type": "code",
   "execution_count": null,
   "id": "33cc8a2e",
   "metadata": {},
   "outputs": [],
   "source": [
    "\n",
    "def integra_mc_np(func, a, b, num_puntos=10000, mostrar_plot=False):\n",
    "    # Caso extremo: Verificar que el rango es válido\n",
    "    if a == b:\n",
    "        print('Intervalo inválido (a = b)')\n",
    "        return\n",
    "\n",
    "    # Comprobamos el orden correcto de las variables\n",
    "    if a > b:\n",
    "        a, b = b, a\n",
    "\n",
    "    #Iniciamos la evaluación temporal\n",
    "    start_time = time.time()\n",
    "\n",
    "    # Obtiene una lista de 100 puntos x equiespaciados en el intervalo [a, b]\n",
    "    x_points = np.linspace(a, b, NUMERO_PUNTOS_FUNCION)\n",
    "\n",
    "    # Calcula los valores de la función en cada punto x\n",
    "    y_points = func(x_points)\n",
    "\n",
    "    # Encuentra el valor máximo de la función en el intervalo dado\n",
    "    m = np.max(y_points)\n",
    "\n",
    "    # Si existen valores negativos de la función en el rango proporcionado, se detiene la ejecución.\n",
    "    if np.min(y_points) < 0:\n",
    "        print(f'Función inválida al tener valores por debajo de 0 en el rango {a} - {b}')\n",
    "        return -1, -1\n",
    "\n",
    "    # Generamos puntos aleatorios dentro del rectángulo definido por [a, b] y [0, m]\n",
    "    # Se separan en dos listas: valores de x y valores de y\n",
    "    x = np.random.uniform(a, b, num_puntos)\n",
    "    y = np.random.uniform(0, max(func(x)), num_puntos)\n",
    "\n",
    "    # Contamos los puntos que están por debajo o \"dentro\" de la función\n",
    "    numero_puntos_dentro = np.sum(y[y < func(x)])\n",
    "\n",
    "    # Realizamos el cálculo final\n",
    "    resultado = calcula_integral_monte_carlo(numero_puntos_dentro, num_puntos, b - a, m)\n",
    "\n",
    "    #Finalizamos la evaluación temporal\n",
    "    end_time = time.time()\n",
    "\n",
    "    # Si se decide mostrar la gráfica, procederemos a hacerlo ahora sin afectar al tiempo.\n",
    "    if mostrar_plot:\n",
    "        # Dibuja la función\n",
    "        plt.plot(x_points, y_points, 'b', label=f'Función')\n",
    "        # Establece los límites en el eje x e y, para que correspondan con los rangos a-b y 0-m\n",
    "        plt.xlim(a, b)\n",
    "        plt.ylim(0, m)\n",
    "        # Representa en la gráfica los puntos primero de verde todos\n",
    "        plt.scatter(x, y, s=1, color='g', label='Puntos debajo de f')\n",
    "        # Colorea los puntos incorrectos de rojo\n",
    "        plt.scatter(x[y > func(x)], y[y > func(x)], s=1, color='r', label='Puntos encima de f')\n",
    "        # Título de la gŕafica\n",
    "        plt.title(f'Método de integración por Monte Carlo (Numpy - {num_puntos}ptos)')\n",
    "        # Etiquetas de los ejes\n",
    "        plt.xlabel('x')\n",
    "        plt.ylabel('y')\n",
    "        # Posiciona la leyenda fuera del gráfico\n",
    "        plt.legend(bbox_to_anchor=(1.05, 1))\n",
    "        # Muestra la gráfica\n",
    "        plt.show()\n",
    "\n",
    "    # Devuelve una tupla que almacena el resultado y el tiempo\n",
    "    return resultado, end_time - start_time"
   ]
  },
  {
   "cell_type": "markdown",
   "id": "4eff4b16",
   "metadata": {
    "lines_to_next_cell": 0
   },
   "source": [
    "## Resultados:\n",
    "Para esta sección comenzamos definiendo 1 funciones. De manera que realizaremos el cálculo de su integral en el rango\n",
    "-1, 1, usando un total de 20 puntos diferentes repartidos entre 100 y 10000000 y utilizando las dos implementaciones del cálculo.\n",
    "Establecido esto, ejecutaremos alternativamente las dos implementaciones y guardaremos el tiempo de ejecución de cada\n",
    "una, para luego pasar a mostrar unos gráficos con la comparativa de ambas implementaciones.\n",
    "\n",
    "Cabe mencionar también que se muestran también los gráficos siempre que trabajemos con menos de 1000000 puntos en el caso\n",
    "de la implementación vectorial.\n"
   ]
  },
  {
   "cell_type": "code",
   "execution_count": null,
   "id": "dc6d7516",
   "metadata": {},
   "outputs": [],
   "source": [
    "fun = lambda x: x*x\n",
    "\n",
    "# Rangos y puntos\n",
    "puntos_ejecucion = np.linspace(100, 10000000, 20, dtype=int)\n",
    "\n",
    "\n",
    "\n",
    "# Listas para los tiempos\n",
    "tiempos_iterativa = []\n",
    "tiempos_numpy = []\n",
    "\n",
    "# Iteramos sobre los puntos de ejecución\n",
    "for puntos in puntos_ejecucion:\n",
    "\n",
    "    mostrar_plot = puntos <= 1000000\n",
    "    resultado_iterativa, tiempo_iterativa = integra_mc_it(fun, -1, 1, puntos)\n",
    "\n",
    "    if resultado_iterativa == -1:\n",
    "        break\n",
    "\n",
    "    print(f\"Resultado iterativa con {puntos} puntos: {resultado_iterativa}u, Tiempo: {tiempo_iterativa}s\")\n",
    "    tiempos_iterativa.append(tiempo_iterativa)\n",
    "\n",
    "\n",
    "    resultado_numpy, tiempo_numpy = integra_mc_np(fun, -1, 1, puntos, mostrar_plot)\n",
    "    tiempos_numpy.append(tiempo_numpy)\n",
    "    if resultado_iterativa == -1:\n",
    "        break\n",
    "    else:\n",
    "        print(f\"Resultado numpy con {puntos} puntos: {resultado_numpy}u, Tiempo: {tiempo_numpy}s\")\n",
    "\n",
    "\n",
    "if tiempos_iterativa[0] != -1 and tiempos_iterativa[0] != -1:\n",
    "    # Graficamos los resultados para esta función con ambas versiones\n",
    "    plt.plot(puntos_ejecucion, tiempos_iterativa, 'r', label=\"Tiempos con la función iterativa\")\n",
    "    plt.plot(puntos_ejecucion, tiempos_numpy, 'b', label=\"Tiempos con la función vectorial (numpy)\")\n",
    "    plt.xlabel(\"Número de Puntos\")\n",
    "    plt.ylabel(\"Tiempo (segundos)\")\n",
    "    plt.title(f\"Tiempos de ejecución\")\n",
    "    plt.xticks(puntos_ejecucion, puntos_ejecucion, rotation=45)\n",
    "    plt.legend()\n",
    "    plt.grid(True)\n",
    "    plt.show()"
   ]
  },
  {
   "cell_type": "markdown",
   "id": "920966b2",
   "metadata": {
    "lines_to_next_cell": 0
   },
   "source": [
    "## Conclusión:\n",
    "Con la realización de esta práctica podemos apreciar lo útiles que son las librerías de python, debido a su simplicidad\n",
    "y velocidad con respecto al código escrito en el propio python. Investigando un poco hemos visto que esto se consigue\n",
    "debido a que estas librerías están programadas en C"
   ]
  },
  {
   "cell_type": "code",
   "execution_count": null,
   "id": "3278eba9",
   "metadata": {},
   "outputs": [],
   "source": []
  }
 ],
 "metadata": {
  "jupytext": {
   "cell_metadata_filter": "-all",
   "main_language": "python",
   "notebook_metadata_filter": "-all"
  },
  "kernelspec": {
   "name": "python3",
   "language": "python",
   "display_name": "Python 3 (ipykernel)"
  }
 },
 "nbformat": 4,
 "nbformat_minor": 5
}
