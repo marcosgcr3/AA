





import pandas as pd
import numpy as np
import matplotlib.pyplot as plt
import seaborn as sns
import re
import scipy.stats as stats
from sklearn.model_selection import train_test_split, cross_val_score
from sklearn.preprocessing import LabelEncoder, StandardScaler
from sklearn.linear_model import LogisticRegression
from sklearn.ensemble import RandomForestClassifier
from sklearn.metrics import confusion_matrix, classification_report, roc_curve, auc, accuracy_score
import plotly.express as px
import warnings
# Install dependencies as needed:
# pip install kagglehub[pandas-datasets]
import os


data = pd.read_csv('/kaggle/input/student-depression-dataset/student_depression_dataset.csv')



